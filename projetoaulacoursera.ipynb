{
 "cells": [
  {
   "cell_type": "code",
   "execution_count": 323,
   "id": "1e698020",
   "metadata": {},
   "outputs": [],
   "source": [
    "import numpy as np\n",
    "import pandas as pd\n",
    "import matplotlib.pyplot\n",
    "import matplotlib.pyplot as plt\n",
    "import csv\n",
    "from bokeh.plotting import figure, show"
   ]
  },
  {
   "cell_type": "code",
   "execution_count": 324,
   "id": "84665369",
   "metadata": {},
   "outputs": [],
   "source": [
    "url={'populacao':'C:/Users/011208631/Desktop/projeto-coursera/populacao.csv',\\\n",
    "       'desemprego':'C:/Users/011208631/Desktop/projeto-coursera/desemprego.csv',\\\n",
    "            'renda':'C:/Users/011208631/Desktop/projeto-coursera/rmediamensal.csv'}"
   ]
  },
  {
   "cell_type": "markdown",
   "id": "a63f56a9",
   "metadata": {},
   "source": [
    "As estimativas anuais de população para os municípios e para as Unidades da Federação brasileiras têm data de referência em 1º de julho e são realizadas para os anos em que não há Censo Demográfico ou Contagem da População."
   ]
  },
  {
   "cell_type": "code",
   "execution_count": 325,
   "id": "e2c25569",
   "metadata": {},
   "outputs": [
    {
     "data": {
      "text/html": [
       "<div>\n",
       "<style scoped>\n",
       "    .dataframe tbody tr th:only-of-type {\n",
       "        vertical-align: middle;\n",
       "    }\n",
       "\n",
       "    .dataframe tbody tr th {\n",
       "        vertical-align: top;\n",
       "    }\n",
       "\n",
       "    .dataframe thead th {\n",
       "        text-align: right;\n",
       "    }\n",
       "</style>\n",
       "<table border=\"1\" class=\"dataframe\">\n",
       "  <thead>\n",
       "    <tr style=\"text-align: right;\">\n",
       "      <th></th>\n",
       "      <th>ano</th>\n",
       "      <th>populacao</th>\n",
       "    </tr>\n",
       "  </thead>\n",
       "  <tbody>\n",
       "    <tr>\n",
       "      <th>0</th>\n",
       "      <td>2009</td>\n",
       "      <td>191481</td>\n",
       "    </tr>\n",
       "    <tr>\n",
       "      <th>1</th>\n",
       "      <td>2011</td>\n",
       "      <td>192379</td>\n",
       "    </tr>\n",
       "    <tr>\n",
       "      <th>2</th>\n",
       "      <td>2012</td>\n",
       "      <td>193904</td>\n",
       "    </tr>\n",
       "    <tr>\n",
       "      <th>3</th>\n",
       "      <td>2013</td>\n",
       "      <td>201033</td>\n",
       "    </tr>\n",
       "    <tr>\n",
       "      <th>4</th>\n",
       "      <td>2014</td>\n",
       "      <td>202769</td>\n",
       "    </tr>\n",
       "  </tbody>\n",
       "</table>\n",
       "</div>"
      ],
      "text/plain": [
       "    ano  populacao\n",
       "0  2009     191481\n",
       "1  2011     192379\n",
       "2  2012     193904\n",
       "3  2013     201033\n",
       "4  2014     202769"
      ]
     },
     "execution_count": 325,
     "metadata": {},
     "output_type": "execute_result"
    }
   ],
   "source": [
    "csv_doc='C:/Users/011208631/Desktop/projeto-coursera/populacao.csv'\n",
    "df1=pd.read_csv(csv_doc)\n",
    "df1.head()"
   ]
  },
  {
   "cell_type": "markdown",
   "id": "24f7063f",
   "metadata": {},
   "source": [
    "O desemprego se refere às pessoas com idade para trabalhar que não estão trabalhando, mas estão disponíveis e tentam encontrar trabalho. É calculado pela PNAD Contínua - Pesquisa Nacional por Amostra de Domicílios Contínua."
   ]
  },
  {
   "cell_type": "code",
   "execution_count": 326,
   "id": "b6103576",
   "metadata": {},
   "outputs": [
    {
     "data": {
      "text/html": [
       "<div>\n",
       "<style scoped>\n",
       "    .dataframe tbody tr th:only-of-type {\n",
       "        vertical-align: middle;\n",
       "    }\n",
       "\n",
       "    .dataframe tbody tr th {\n",
       "        vertical-align: top;\n",
       "    }\n",
       "\n",
       "    .dataframe thead th {\n",
       "        text-align: right;\n",
       "    }\n",
       "</style>\n",
       "<table border=\"1\" class=\"dataframe\">\n",
       "  <thead>\n",
       "    <tr style=\"text-align: right;\">\n",
       "      <th></th>\n",
       "      <th>periodo</th>\n",
       "      <th>ano</th>\n",
       "      <th>taxa %</th>\n",
       "    </tr>\n",
       "  </thead>\n",
       "  <tbody>\n",
       "    <tr>\n",
       "      <th>0</th>\n",
       "      <td>3º trimestre</td>\n",
       "      <td>2018</td>\n",
       "      <td>11.9</td>\n",
       "    </tr>\n",
       "    <tr>\n",
       "      <th>1</th>\n",
       "      <td>4º trimestre</td>\n",
       "      <td>2018</td>\n",
       "      <td>11.6</td>\n",
       "    </tr>\n",
       "    <tr>\n",
       "      <th>2</th>\n",
       "      <td>1º trimestre</td>\n",
       "      <td>2019</td>\n",
       "      <td>12.7</td>\n",
       "    </tr>\n",
       "    <tr>\n",
       "      <th>3</th>\n",
       "      <td>2º trimestre</td>\n",
       "      <td>2019</td>\n",
       "      <td>12.0</td>\n",
       "    </tr>\n",
       "    <tr>\n",
       "      <th>4</th>\n",
       "      <td>3º trimestre</td>\n",
       "      <td>2019</td>\n",
       "      <td>11.8</td>\n",
       "    </tr>\n",
       "  </tbody>\n",
       "</table>\n",
       "</div>"
      ],
      "text/plain": [
       "        periodo   ano  taxa %\n",
       "0  3º trimestre  2018    11.9\n",
       "1  4º trimestre  2018    11.6\n",
       "2  1º trimestre  2019    12.7\n",
       "3  2º trimestre  2019    12.0\n",
       "4  3º trimestre  2019    11.8"
      ]
     },
     "execution_count": 326,
     "metadata": {},
     "output_type": "execute_result"
    }
   ],
   "source": [
    "csv_doc='C:/Users/011208631/Desktop/projeto-coursera/desemprego.csv'\n",
    "df2=pd.read_csv(csv_doc)\n",
    "df2.head()"
   ]
  },
  {
   "cell_type": "code",
   "execution_count": 327,
   "id": "8a89cd75",
   "metadata": {},
   "outputs": [
    {
     "data": {
      "text/html": [
       "<div>\n",
       "<style scoped>\n",
       "    .dataframe tbody tr th:only-of-type {\n",
       "        vertical-align: middle;\n",
       "    }\n",
       "\n",
       "    .dataframe tbody tr th {\n",
       "        vertical-align: top;\n",
       "    }\n",
       "\n",
       "    .dataframe thead th {\n",
       "        text-align: right;\n",
       "    }\n",
       "</style>\n",
       "<table border=\"1\" class=\"dataframe\">\n",
       "  <thead>\n",
       "    <tr style=\"text-align: right;\">\n",
       "      <th></th>\n",
       "      <th>periodo</th>\n",
       "      <th>ano</th>\n",
       "      <th>valor R$</th>\n",
       "    </tr>\n",
       "  </thead>\n",
       "  <tbody>\n",
       "    <tr>\n",
       "      <th>0</th>\n",
       "      <td>2º trimestre</td>\n",
       "      <td>2017</td>\n",
       "      <td>2084</td>\n",
       "    </tr>\n",
       "    <tr>\n",
       "      <th>1</th>\n",
       "      <td>3º trimestre</td>\n",
       "      <td>2017</td>\n",
       "      <td>2100</td>\n",
       "    </tr>\n",
       "    <tr>\n",
       "      <th>2</th>\n",
       "      <td>4º trimestre</td>\n",
       "      <td>2017</td>\n",
       "      <td>2134</td>\n",
       "    </tr>\n",
       "    <tr>\n",
       "      <th>3</th>\n",
       "      <td>1º trimestre</td>\n",
       "      <td>2018</td>\n",
       "      <td>2171</td>\n",
       "    </tr>\n",
       "    <tr>\n",
       "      <th>4</th>\n",
       "      <td>2º trimestre</td>\n",
       "      <td>2018</td>\n",
       "      <td>2200</td>\n",
       "    </tr>\n",
       "  </tbody>\n",
       "</table>\n",
       "</div>"
      ],
      "text/plain": [
       "        periodo   ano  valor R$\n",
       "0  2º trimestre  2017      2084\n",
       "1  3º trimestre  2017      2100\n",
       "2  4º trimestre  2017      2134\n",
       "3  1º trimestre  2018      2171\n",
       "4  2º trimestre  2018      2200"
      ]
     },
     "execution_count": 327,
     "metadata": {},
     "output_type": "execute_result"
    }
   ],
   "source": [
    "csv_doc='C:/Users/011208631/Desktop/projeto-coursera/rmediamensal.csv'\n",
    "df3=pd.read_csv(csv_doc)\n",
    "df3.head()"
   ]
  },
  {
   "cell_type": "code",
   "execution_count": 328,
   "id": "025c89b2",
   "metadata": {},
   "outputs": [
    {
     "data": {
      "text/plain": [
       "array(['ano', 'populacao'], dtype=object)"
      ]
     },
     "execution_count": 328,
     "metadata": {},
     "output_type": "execute_result"
    }
   ],
   "source": [
    "df1.columns.values"
   ]
  },
  {
   "cell_type": "code",
   "execution_count": 329,
   "id": "2d9ae4d1",
   "metadata": {},
   "outputs": [
    {
     "data": {
      "text/plain": [
       "array(['periodo', 'ano', 'taxa %'], dtype=object)"
      ]
     },
     "execution_count": 329,
     "metadata": {},
     "output_type": "execute_result"
    }
   ],
   "source": [
    "df2.columns.values"
   ]
  },
  {
   "cell_type": "code",
   "execution_count": 330,
   "id": "3d8a110c",
   "metadata": {},
   "outputs": [
    {
     "data": {
      "text/plain": [
       "array(['periodo', 'ano', 'valor R$'], dtype=object)"
      ]
     },
     "execution_count": 330,
     "metadata": {},
     "output_type": "execute_result"
    }
   ],
   "source": [
    "df3.columns.values"
   ]
  },
  {
   "cell_type": "code",
   "execution_count": 331,
   "id": "eb00158c",
   "metadata": {},
   "outputs": [],
   "source": [
    "url={'desemprego':'C:/Users/011208631/Desktop/projeto-coursera/desemprego.csv'} \n",
    "csv_doc='C:/Users/011208631/Desktop/projeto-coursera/desemprego.csv'\n",
    "df2=pd.read_csv(csv_doc)"
   ]
  },
  {
   "cell_type": "code",
   "execution_count": 332,
   "id": "afee15c9",
   "metadata": {},
   "outputs": [],
   "source": [
    "title = \"Dados da População, Desemprego e Rendimento Médio no Brasil\""
   ]
  },
  {
   "cell_type": "code",
   "execution_count": 333,
   "id": "92d2f421",
   "metadata": {
    "scrolled": true
   },
   "outputs": [
    {
     "data": {
      "text/html": [
       "<div>\n",
       "<style scoped>\n",
       "    .dataframe tbody tr th:only-of-type {\n",
       "        vertical-align: middle;\n",
       "    }\n",
       "\n",
       "    .dataframe tbody tr th {\n",
       "        vertical-align: top;\n",
       "    }\n",
       "\n",
       "    .dataframe thead th {\n",
       "        text-align: right;\n",
       "    }\n",
       "</style>\n",
       "<table border=\"1\" class=\"dataframe\">\n",
       "  <thead>\n",
       "    <tr style=\"text-align: right;\">\n",
       "      <th></th>\n",
       "      <th>ano</th>\n",
       "      <th>populacao</th>\n",
       "    </tr>\n",
       "  </thead>\n",
       "  <tbody>\n",
       "    <tr>\n",
       "      <th>0</th>\n",
       "      <td>2009</td>\n",
       "      <td>191481</td>\n",
       "    </tr>\n",
       "    <tr>\n",
       "      <th>1</th>\n",
       "      <td>2011</td>\n",
       "      <td>192379</td>\n",
       "    </tr>\n",
       "    <tr>\n",
       "      <th>2</th>\n",
       "      <td>2012</td>\n",
       "      <td>193904</td>\n",
       "    </tr>\n",
       "    <tr>\n",
       "      <th>3</th>\n",
       "      <td>2013</td>\n",
       "      <td>201033</td>\n",
       "    </tr>\n",
       "    <tr>\n",
       "      <th>4</th>\n",
       "      <td>2014</td>\n",
       "      <td>202769</td>\n",
       "    </tr>\n",
       "  </tbody>\n",
       "</table>\n",
       "</div>"
      ],
      "text/plain": [
       "    ano  populacao\n",
       "0  2009     191481\n",
       "1  2011     192379\n",
       "2  2012     193904\n",
       "3  2013     201033\n",
       "4  2014     202769"
      ]
     },
     "execution_count": 333,
     "metadata": {},
     "output_type": "execute_result"
    }
   ],
   "source": [
    "populacao=pd.read_csv(\"C:/Users/011208631/Desktop/projeto-coursera/populacao.csv\")\n",
    "populacao.head()"
   ]
  },
  {
   "cell_type": "markdown",
   "id": "c1349cdd",
   "metadata": {},
   "source": [
    "A seguir, veremos a taxa de desemprego á cada ano. Visualizamos facilmente que entre 2020 e 2021, por conta da pandemia Covid-19, tivemos uma maior taxa de desemprego no Brasil."
   ]
  },
  {
   "cell_type": "code",
   "execution_count": 334,
   "id": "b410b8fb",
   "metadata": {},
   "outputs": [
    {
     "data": {
      "text/plain": [
       "Text(0, 0.5, 'Taxa de Desemprego (%)')"
      ]
     },
     "execution_count": 334,
     "metadata": {},
     "output_type": "execute_result"
    },
    {
     "data": {
      "image/png": "[encoded data removed]",
      "text/plain": [
       "<Figure size 432x288 with 1 Axes>"
      ]
     },
     "metadata": {},
     "output_type": "display_data"
    }
   ],
   "source": [
    "desemprego = pd.read_csv(\"C:/Users/011208631/Desktop/projeto-coursera/desemprego.csv\") \n",
    "plt.bar(desemprego['ano'], desemprego['taxa %'], color='r')\n",
    "plt.title('Dados de Desemprego por Ano') \n",
    "plt.xlabel('Ano') \n",
    "plt.ylabel('Taxa de Desemprego (%)') "
   ]
  },
  {
   "cell_type": "markdown",
   "id": "1d512f28",
   "metadata": {},
   "source": [
    "Abaixo, veremos o crescimento da população anual no Brasil. "
   ]
  },
  {
   "cell_type": "code",
   "execution_count": 335,
   "id": "64ed443f",
   "metadata": {},
   "outputs": [
    {
     "data": {
      "text/plain": [
       "Text(0, 0.5, 'População')"
      ]
     },
     "execution_count": 335,
     "metadata": {},
     "output_type": "execute_result"
    },
    {
     "data": {
      "image/png": "[encoded data removed]",
      "text/plain": [
       "<Figure size 432x288 with 1 Axes>"
      ]
     },
     "metadata": {},
     "output_type": "display_data"
    }
   ],
   "source": [
    "populacao = pd.read_csv(\"C:/Users/011208631/Desktop/projeto-coursera/populacao.csv\") \n",
    "plt.bar(populacao['ano'], populacao['populacao'], color='b')\n",
    "plt.title('Crescimento da População Anual') \n",
    "plt.xlabel('Ano') \n",
    "plt.ylabel('População') "
   ]
  },
  {
   "cell_type": "code",
   "execution_count": 336,
   "id": "787155fa",
   "metadata": {},
   "outputs": [
    {
     "data": {
      "text/plain": [
       "Text(0, 0.5, 'Renda Média Mensal (R$)')"
      ]
     },
     "execution_count": 336,
     "metadata": {},
     "output_type": "execute_result"
    },
    {
     "data": {
      "image/png": "[encoded data removed]",
      "text/plain": [
       "<Figure size 432x288 with 1 Axes>"
      ]
     },
     "metadata": {},
     "output_type": "display_data"
    }
   ],
   "source": [
    "renda = pd.read_csv(\"C:/Users/011208631/Desktop/projeto-coursera/rmediamensal.csv\") \n",
    "plt.bar(renda['ano'], renda['valor R$'], color='g') \n",
    "plt.title('Renda Média Mensal dos Brasileiros durante os anos') \n",
    "plt.xlabel('Ano') \n",
    "plt.ylabel('Renda Média Mensal (R$)') "
   ]
  },
  {
   "cell_type": "markdown",
   "id": "3cd62472",
   "metadata": {},
   "source": [
    "Vimos a taxa de desemprego durante os anos, agora gostaria de comparar a taxa de desemprego de acordo com a quantidade da População. Como esperado, a taxa aumenta conforme aumenta a quantidade de pessoas."
   ]
  },
  {
   "cell_type": "code",
   "execution_count": 337,
   "id": "50a41409",
   "metadata": {},
   "outputs": [
    {
     "data": {
      "text/plain": [
       "Text(0, 0.5, 'População')"
      ]
     },
     "execution_count": 337,
     "metadata": {},
     "output_type": "execute_result"
    },
    {
     "data": {
      "image/png": "[encoded data removed]",
      "text/plain": [
       "<Figure size 432x288 with 1 Axes>"
      ]
     },
     "metadata": {},
     "output_type": "display_data"
    }
   ],
   "source": [
    "plt.bar(desemprego['taxa %'], populacao['populacao'], color='black')\n",
    "plt.title('Taxa de Desemprego de acordo com a quantidade da População') \n",
    "plt.xlabel('Taxa (%)') \n",
    "plt.ylabel('População') "
   ]
  },
  {
   "cell_type": "code",
   "execution_count": null,
   "id": "44847f65",
   "metadata": {},
   "outputs": [],
   "source": []
  }
 ],
 "metadata": {
  "kernelspec": {
   "display_name": "Python 3",
   "language": "python",
   "name": "python3"
  },
  "language_info": {
   "codemirror_mode": {
    "name": "ipython",
    "version": 3
   },
   "file_extension": ".py",
   "mimetype": "text/x-python",
   "name": "python",
   "nbconvert_exporter": "python",
   "pygments_lexer": "ipython3",
   "version": "3.8.8"
  }
 },
 "nbformat": 4,
 "nbformat_minor": 5
}
